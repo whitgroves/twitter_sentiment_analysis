{
 "cells": [
  {
   "cell_type": "markdown",
   "metadata": {},
   "source": [
    "### Step 1: Accept a search term from the user and download the last 100 tweets with that term."
   ]
  },
  {
   "cell_type": "code",
   "execution_count": 1,
   "metadata": {
    "collapsed": false
   },
   "outputs": [],
   "source": [
    "# The python-twitter module is used because it has a RESTful API that returns\n",
    "# pre-parsed objects instead of raw JSON to make working with data easier.\n",
    "\n",
    "import twitter\n",
    "import json\n",
    "\n",
    "# The twitter library uses an API object authenticated with app keys to access the API.\n",
    "# For privacy reasons, these keys are loaded from a local JSON file not included in this repo.\n",
    "\n",
    "with open('twitter_keys.json') as keystore:\n",
    "    keys = json.load(keystore)\n",
    "\n",
    "api = twitter.Api(consumer_key=keys['consumer_key'],\n",
    "                  consumer_secret=keys['consumer_secret'],\n",
    "                  access_token_key=keys['access_token_key'],\n",
    "                  access_token_secret=keys['access_token_secret'])"
   ]
  },
  {
   "cell_type": "code",
   "execution_count": 2,
   "metadata": {
    "collapsed": false
   },
   "outputs": [],
   "source": [
    "# This is a function to accept a search term and fetch the tweets with that term.\n",
    "def fetchTestData(search_string):\n",
    "    try:\n",
    "        tweets_fetched = api.GetSearch(search_string, count=100)\n",
    "        print(\"Fetched\",str(len(tweets_fetched)),\"tweets with the term\",search_string)\n",
    "        return [{'text':status.text,'label':None} for status in tweets_fetched]\n",
    "    except:\n",
    "        print(\"Failed to fetch tweets with the term\",search_string)\n",
    "        return None"
   ]
  },
  {
   "cell_type": "code",
   "execution_count": 3,
   "metadata": {
    "collapsed": false
   },
   "outputs": [
    {
     "name": "stdout",
     "output_type": "stream",
     "text": [
      "Hello. Please enter a search term: apple\n",
      "Fetched 87 tweets with the term apple\n"
     ]
    }
   ],
   "source": [
    "search_string = input(\"Hello. Please enter a search term: \")\n",
    "testData = fetchTestData(search_string)"
   ]
  },
  {
   "cell_type": "code",
   "execution_count": 4,
   "metadata": {
    "collapsed": false
   },
   "outputs": [
    {
     "name": "stdout",
     "output_type": "stream",
     "text": [
      "Next year, Netflix turns 20. Amazon turns 23. Apple turns 41. Facebook turns 13. Twitter turns 11. Google turns 19.\n",
      "My NEW song #BeautifulDistraction is now available on iTunes Download it now!!! https://t.co/iZ8er1fM9H\n",
      "[#MONSTA_X] #몬스타엑스 #2017골든디스크 #음반후보 투표참여안내! \n",
      "많은 참여 부탁드립니다💞\n",
      "👉🏻Google play : https://t.co/YetbxH99iI\n",
      "👉🏻Apple Store : https://t.co/YnZEPW3IHB\n",
      "business: The Fed raised interest rates. So, what should you do? https://t.co/v8vvphFsdK https://t.co/p9i6WgYdZC\n",
      "https://t.co/pYFMQgyuvD  https://t.co/vdKQJvQ6CT Off-Grid Travel — Setting Up a… https://t.co/ywkcRscBq1… https://t.co/FKp13R6nXx\n",
      "@sheeraddicted c'est le cancer de l'humanité parce qu'apple répare rien\n",
      "RT @thegoodperry: Ion want yo apple pie mama\n",
      "RT @applegiveaway16: Apple Computer GIVEAWAY!!!\n",
      "RT to Win and stay active!!\n",
      "Notifications must be on to win!! https://t.co/9tJMLfO6jq\n",
      "RT @applesfera: Apple amplía los descuentos de sus accesorios y lanza el monitor LG UltraFine 5K en su tienda online https://t.co/WP3MYoTPd…\n"
     ]
    }
   ],
   "source": [
    "# First 10 tweets that were fetched.\n",
    "for tweet in testData[0:9]:\n",
    "    print(tweet['text'])"
   ]
  },
  {
   "cell_type": "markdown",
   "metadata": {},
   "source": [
    "### Step 2: Classify these tweets as positive or negative."
   ]
  },
  {
   "cell_type": "code",
   "execution_count": null,
   "metadata": {
    "collapsed": false
   },
   "outputs": [],
   "source": [
    "# This requires downloading a corpus of tweet data. However, twitter only allows\n",
    "# tweet ID's to be shared, and not the tweets themselves. The API can be used to\n",
    "# cross-reference the corpus, but considering that Niek Sanders corpus contains\n",
    "# 5000 tweets and twitter limits API pulls to 180/15 mins, it will take several \n",
    "# hours to complete the pull.\n",
    "\n",
    "def createTrainingCorpus(corpusFile,tweetFile):\n",
    "    import csv\n",
    "    corpus=[]\n",
    "    with open(corpusFile,'r') as csvfile:\n",
    "        lineReader = csv.reader(csvfile,delimiter=',',quotechar='\"')\n",
    "        for row in lineReader:\n",
    "            corpus.append({'tweet_id':row[2],'label':row[1],'topic':row[0]})\n",
    "    # The tweet pull is self-throttled to work around twitter's rate limit.\n",
    "    import time\n",
    "    rate_limit=180\n",
    "    sleep_time=900/180 # 15 minutes / limit\n",
    "    trainingData=[]\n",
    "    downloadCount = 1\n",
    "    for tweet in corpus:\n",
    "        try:\n",
    "            status = api.GetStatus(tweet['tweet_id'])\n",
    "            tweet['text'] = status.text\n",
    "            print('fetched tweet',str(downloadCount),'of',str(len(corpus)))\n",
    "            downloadCount += 1\n",
    "            trainingData.append(tweet)\n",
    "            time.sleep(sleep_time) # to avoid rate limit\n",
    "        except:\n",
    "            continue\n",
    "    with open(tweetFile,'w') as csvfile:\n",
    "        lineWriter = csv.writer(csvfile,delimiter=',',quotechar='\"')\n",
    "        for tweet in trainingData:\n",
    "            lineWriter.writerow([tweet['tweet_id'],tweet['text'],tweet['label'],tweet['topic']])\n",
    "    return trainingData"
   ]
  },
  {
   "cell_type": "code",
   "execution_count": null,
   "metadata": {
    "collapsed": false
   },
   "outputs": [
    {
     "name": "stdout",
     "output_type": "stream",
     "text": [
      "fetched tweet 0 of 5513\n",
      "fetched tweet 1 of 5513\n",
      "fetched tweet 2 of 5513\n",
      "fetched tweet 3 of 5513\n",
      "fetched tweet 4 of 5513\n",
      "fetched tweet 5 of 5513\n",
      "fetched tweet 6 of 5513\n",
      "fetched tweet 7 of 5513\n",
      "fetched tweet 8 of 5513\n",
      "fetched tweet 9 of 5513\n"
     ]
    }
   ],
   "source": [
    "createTrainingCorpus('./corpus.csv','./tweets.csv')"
   ]
  },
  {
   "cell_type": "code",
   "execution_count": null,
   "metadata": {
    "collapsed": true
   },
   "outputs": [],
   "source": []
  }
 ],
 "metadata": {
  "kernelspec": {
   "display_name": "Python 3",
   "language": "python",
   "name": "python3"
  },
  "language_info": {
   "codemirror_mode": {
    "name": "ipython",
    "version": 3
   },
   "file_extension": ".py",
   "mimetype": "text/x-python",
   "name": "python",
   "nbconvert_exporter": "python",
   "pygments_lexer": "ipython3",
   "version": "3.5.2"
  }
 },
 "nbformat": 4,
 "nbformat_minor": 0
}
