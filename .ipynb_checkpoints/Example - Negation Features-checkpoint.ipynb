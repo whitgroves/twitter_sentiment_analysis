{
 "cells": [
  {
   "cell_type": "code",
   "execution_count": 1,
   "metadata": {
    "collapsed": true
   },
   "outputs": [],
   "source": [
    "# The example tweet below may have a positive connotation (due to the word 'good') when\n",
    "# used with the previously demonstrated classifiers. Therefore, it is necessary to use\n",
    "# negation as a feature for classification.\n",
    "ex_tweet = ['this', 'is', 'not', 'good']"
   ]
  },
  {
   "cell_type": "code",
   "execution_count": 2,
   "metadata": {
    "collapsed": true
   },
   "outputs": [],
   "source": [
    "# This function compares a keyword set of negation words to the tweet. If the tweet\n",
    "# contains any of the words, any word next to it has its polarity reversed.\n",
    "def negation(tweet):\n",
    "    keyset = {\"don't\", \"never\", \"nothing\", \"nowhere\", \"noone\", \"none\", \"not\",\n",
    "              \"hasn't\", \"hadn't\", \"can't\", \"couldn't\", \"shouldn't\", \"won't\",\n",
    "              \"wouldn't\", \"don't\", \"doesn't\", \"didn't\", \"isn't\", \"aren't\", \"ain't\"}\n",
    "    neg_n = []\n",
    "    for i in range(len(tweet)):\n",
    "        neg_n.append(0) # Create a parallel array for negative meanings.\n",
    "    for neg in keyset:\n",
    "        if neg in tweet:\n",
    "            for i in range(len(tweet)):\n",
    "                if i >= tweet.index(neg):\n",
    "                    neg_n[i] = neg_n[i]+1 # Makes every word after the negation negative.\n",
    "    for i in range(len(tweet)):\n",
    "        if neg_n[i] % 2 == 1: # This filters past any double negatives, which cancel each other out.\n",
    "            tweet[i] = \"NEG_\"+tweet[i]\n",
    "    return tweet"
   ]
  },
  {
   "cell_type": "code",
   "execution_count": 3,
   "metadata": {
    "collapsed": false
   },
   "outputs": [
    {
     "data": {
      "text/plain": [
       "['this', 'is', 'NEG_not', 'NEG_good']"
      ]
     },
     "execution_count": 3,
     "metadata": {},
     "output_type": "execute_result"
    }
   ],
   "source": [
    "negation(ex_tweet)"
   ]
  },
  {
   "cell_type": "code",
   "execution_count": 4,
   "metadata": {
    "collapsed": false
   },
   "outputs": [
    {
     "data": {
      "text/plain": [
       "['I', \"NEG_don't\", 'NEG_care', 'NEG_about', 'not', 'winning']"
      ]
     },
     "execution_count": 4,
     "metadata": {},
     "output_type": "execute_result"
    }
   ],
   "source": [
    "ex_dblneg = [\"I\", \"don't\", \"care\", \"about\", \"not\", \"winning\"]\n",
    "negation(ex_dblneg)"
   ]
  },
  {
   "cell_type": "code",
   "execution_count": null,
   "metadata": {
    "collapsed": true
   },
   "outputs": [],
   "source": []
  },
  {
   "cell_type": "code",
   "execution_count": null,
   "metadata": {
    "collapsed": true
   },
   "outputs": [],
   "source": []
  },
  {
   "cell_type": "code",
   "execution_count": null,
   "metadata": {
    "collapsed": true
   },
   "outputs": [],
   "source": []
  }
 ],
 "metadata": {
  "kernelspec": {
   "display_name": "Python 3",
   "language": "python",
   "name": "python3"
  },
  "language_info": {
   "codemirror_mode": {
    "name": "ipython",
    "version": 3
   },
   "file_extension": ".py",
   "mimetype": "text/x-python",
   "name": "python",
   "nbconvert_exporter": "python",
   "pygments_lexer": "ipython3",
   "version": "3.5.2"
  }
 },
 "nbformat": 4,
 "nbformat_minor": 0
}
