{
 "cells": [
  {
   "cell_type": "code",
   "execution_count": 1,
   "metadata": {
    "collapsed": true
   },
   "outputs": [],
   "source": [
    "from nltk import bigrams\n",
    "\n",
    "ex_tweets = ['New York is a great city',\n",
    "             'I love my new shirt',\n",
    "             'The New York Times is a great paper']"
   ]
  },
  {
   "cell_type": "code",
   "execution_count": 4,
   "metadata": {
    "collapsed": false
   },
   "outputs": [
    {
     "name": "stdout",
     "output_type": "stream",
     "text": [
      "('New', 'York')\n",
      "('York', 'is')\n",
      "('is', 'a')\n",
      "('a', 'great')\n",
      "('great', 'city')\n"
     ]
    }
   ],
   "source": [
    "for bg in bigrams(ex_tweets[0].split()):\n",
    "    print(bg)"
   ]
  },
  {
   "cell_type": "code",
   "execution_count": 6,
   "metadata": {
    "collapsed": false
   },
   "outputs": [],
   "source": [
    "words = []\n",
    "for tweet in ex_tweets:\n",
    "    words.extend(tweet.split())\n",
    "\n",
    "# Note: Bigrams can also be referred to as collocations.\n",
    "from nltk.collocations import BigramCollocationFinder\n",
    "from nltk.metrics import BigramAssocMeasures\n",
    "\n",
    "# This combination finds the top 3 bigrams which can be used for feature extraction.\n",
    "bg_finder = BigramCollocationFinder.from_words(words)\n",
    "bgs = bg_finder.nbest(BigramAssocMeasures.chi_sq,3)"
   ]
  },
  {
   "cell_type": "code",
   "execution_count": 7,
   "metadata": {
    "collapsed": false
   },
   "outputs": [
    {
     "data": {
      "text/plain": [
       "[('I', 'love'), ('New', 'York'), ('a', 'great')]"
      ]
     },
     "execution_count": 7,
     "metadata": {},
     "output_type": "execute_result"
    }
   ],
   "source": [
    "bgs"
   ]
  },
  {
   "cell_type": "code",
   "execution_count": 11,
   "metadata": {
    "collapsed": false
   },
   "outputs": [],
   "source": [
    "import nltk\n",
    "wordlist = nltk.FreqDist(words)\n",
    "word_features = list(wordlist.keys())\n",
    "word_features.extend(bgs)"
   ]
  },
  {
   "cell_type": "code",
   "execution_count": 12,
   "metadata": {
    "collapsed": true
   },
   "outputs": [],
   "source": [
    "# Function taken from Sentiment Analysis, now with bigrams.\n",
    "def extract_features(tweet):\n",
    "    words = set(tweet.split())\n",
    "    features = {}\n",
    "    for word in word_features:\n",
    "        features['contains(%s)' % str(word)] = set(word).issubset(words)\n",
    "    return features"
   ]
  },
  {
   "cell_type": "code",
   "execution_count": 14,
   "metadata": {
    "collapsed": false
   },
   "outputs": [],
   "source": [
    "trainingFeatures = nltk.classify.apply_features(extract_features,ex_tweets)"
   ]
  },
  {
   "cell_type": "code",
   "execution_count": 15,
   "metadata": {
    "collapsed": false
   },
   "outputs": [
    {
     "data": {
      "text/plain": [
       "{\"contains(('I', 'love'))\": False,\n",
       " \"contains(('New', 'York'))\": True,\n",
       " \"contains(('a', 'great'))\": True,\n",
       " 'contains(I)': False,\n",
       " 'contains(New)': False,\n",
       " 'contains(The)': False,\n",
       " 'contains(Times)': False,\n",
       " 'contains(York)': False,\n",
       " 'contains(a)': True,\n",
       " 'contains(city)': False,\n",
       " 'contains(great)': False,\n",
       " 'contains(is)': False,\n",
       " 'contains(love)': False,\n",
       " 'contains(my)': False,\n",
       " 'contains(new)': False,\n",
       " 'contains(paper)': False,\n",
       " 'contains(shirt)': False}"
      ]
     },
     "execution_count": 15,
     "metadata": {},
     "output_type": "execute_result"
    }
   ],
   "source": [
    "trainingFeatures[0]"
   ]
  },
  {
   "cell_type": "code",
   "execution_count": null,
   "metadata": {
    "collapsed": true
   },
   "outputs": [],
   "source": []
  }
 ],
 "metadata": {
  "kernelspec": {
   "display_name": "Python 3",
   "language": "python",
   "name": "python3"
  },
  "language_info": {
   "codemirror_mode": {
    "name": "ipython",
    "version": 3
   },
   "file_extension": ".py",
   "mimetype": "text/x-python",
   "name": "python",
   "nbconvert_exporter": "python",
   "pygments_lexer": "ipython3",
   "version": "3.5.2"
  }
 },
 "nbformat": 4,
 "nbformat_minor": 0
}
