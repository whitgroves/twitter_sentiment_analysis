{
 "cells": [
  {
   "cell_type": "markdown",
   "metadata": {},
   "source": [
    "### Regular Expressions"
   ]
  },
  {
   "cell_type": "code",
   "execution_count": 2,
   "metadata": {
    "collapsed": true
   },
   "outputs": [],
   "source": [
    "import re\n",
    "\n",
    "# The re module uses regex to match text. For example, it can be used to find the\n",
    "# string 'remove_this' within the email below:\n",
    "email = 'tony@tiremove_thisger.net'"
   ]
  },
  {
   "cell_type": "code",
   "execution_count": 6,
   "metadata": {
    "collapsed": false
   },
   "outputs": [
    {
     "name": "stdout",
     "output_type": "stream",
     "text": [
      "<_sre.SRE_Match object; span=(7, 18), match='remove_this'>\n"
     ]
    }
   ],
   "source": [
    "# re.search() returns an object with methods to find the position of the pattern.\n",
    "m = re.search('remove_this',email)\n",
    "print(m)"
   ]
  },
  {
   "cell_type": "code",
   "execution_count": 9,
   "metadata": {
    "collapsed": false
   },
   "outputs": [
    {
     "name": "stdout",
     "output_type": "stream",
     "text": [
      "None\n"
     ]
    }
   ],
   "source": [
    "# Note that a search without a match will return None.\n",
    "n = re.search('gobbledygook',email)\n",
    "print(n)"
   ]
  },
  {
   "cell_type": "code",
   "execution_count": 11,
   "metadata": {
    "collapsed": false
   },
   "outputs": [
    {
     "name": "stdout",
     "output_type": "stream",
     "text": [
      "tony@tiger.net\n"
     ]
    }
   ],
   "source": [
    "print(email[:m.start()]+email[m.end():])"
   ]
  },
  {
   "cell_type": "code",
   "execution_count": 12,
   "metadata": {
    "collapsed": false
   },
   "outputs": [
    {
     "data": {
      "text/plain": [
       "['#mondays', '#mondayblues']"
      ]
     },
     "execution_count": 12,
     "metadata": {},
     "output_type": "execute_result"
    }
   ],
   "source": [
    "# For items appearing several times, re.findall() can get each instance.\n",
    "tweet = '#mondays #mondayblues I hate Mondays!'\n",
    "re.findall('#[a-z]+',tweet)"
   ]
  },
  {
   "cell_type": "code",
   "execution_count": 15,
   "metadata": {
    "collapsed": false
   },
   "outputs": [
    {
     "name": "stdout",
     "output_type": "stream",
     "text": [
      "<_sre.SRE_Match object; span=(0, 8), match='#mondays'>\n",
      "#mondays\n",
      "<_sre.SRE_Match object; span=(9, 21), match='#mondayblues'>\n",
      "#mondayblues\n"
     ]
    }
   ],
   "source": [
    "# Note that using re.finditer() does the same, but returns a series of objects similar to re.search()\n",
    "for m in re.finditer('#[a-z]+',tweet):\n",
    "    print(m)\n",
    "    print(tweet[m.start():m.end()])"
   ]
  },
  {
   "cell_type": "code",
   "execution_count": 16,
   "metadata": {
    "collapsed": false
   },
   "outputs": [
    {
     "data": {
      "text/plain": [
       "'HASHTAG HASHTAG I hate Mondays!'"
      ]
     },
     "execution_count": 16,
     "metadata": {},
     "output_type": "execute_result"
    }
   ],
   "source": [
    "# Occurrances can also be substituted.\n",
    "re.sub('#[a-z]+','HASHTAG',tweet)"
   ]
  },
  {
   "cell_type": "code",
   "execution_count": null,
   "metadata": {
    "collapsed": true
   },
   "outputs": [],
   "source": []
  }
 ],
 "metadata": {
  "kernelspec": {
   "display_name": "Python 3",
   "language": "python",
   "name": "python3"
  },
  "language_info": {
   "codemirror_mode": {
    "name": "ipython",
    "version": 3
   },
   "file_extension": ".py",
   "mimetype": "text/x-python",
   "name": "python",
   "nbconvert_exporter": "python",
   "pygments_lexer": "ipython3",
   "version": "3.5.2"
  }
 },
 "nbformat": 4,
 "nbformat_minor": 0
}
